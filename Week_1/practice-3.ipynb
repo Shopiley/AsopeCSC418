{
 "cells": [
  {
   "cell_type": "markdown",
   "metadata": {},
   "source": [
    "#### Saving an Image"
   ]
  },
  {
   "cell_type": "code",
   "execution_count": null,
   "metadata": {},
   "outputs": [],
   "source": [
    "import cv2\n",
    "\n",
    "import os\n",
    "\n",
    "image_path = r'C:\\Users\\maste\\OneDrive\\Documents\\School\\Year-4-S2\\Special-Topics-In-CS\\AsopeCSC418\\Week_1\\img\\vr_headset.jpeg'\n",
    "\n",
    "directory = r'C:\\Users\\maste\\OneDrive\\Documents\\School\\Year-4-S2\\Special-Topics-In-CS\\AsopeCSC418\\Week_1\\img'\n",
    "\n",
    "img = cv2.imread(image_path, 0)\n",
    "\n",
    "os.chdir(directory)\n",
    "\n",
    "print(\"Before saving image: \")\n",
    "print(os.listdir(directory))\n",
    "\n",
    "filename = 'grayImage.jpg'\n",
    "\n",
    "# Using cv2.imwrite() methods save the image\n",
    "cv2.imwrite(filename, img)\n",
    "\n",
    "print(\"After saving image: \")\n",
    "\n",
    "print(os.listdir(directory))\n",
    "\n",
    "print(\"Successfully saved\")"
   ]
  }
 ],
 "metadata": {
  "language_info": {
   "name": "python"
  }
 },
 "nbformat": 4,
 "nbformat_minor": 2
}
