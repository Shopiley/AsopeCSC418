{
 "cells": [
  {
   "cell_type": "markdown",
   "metadata": {},
   "source": [
    "The application is meant to request \n",
    "the username and password of the UMC member and then read the \n",
    "image of the user from the file displaying their corresponding profile \n",
    "details.\n",
    "\n",
    "Hints:\n",
    "• Username = first name \n",
    "• Password = sum of the number of alphabets of the surname\n",
    "• Use Python functions to execute the application"
   ]
  },
  {
   "cell_type": "code",
   "execution_count": 1,
   "metadata": {},
   "outputs": [
    {
     "name": "stdout",
     "output_type": "stream",
     "text": [
      "Welcome Dr. Peter Bamkole!\n"
     ]
    }
   ],
   "source": [
    "import cv2\n",
    "import os\n",
    "\n",
    "users_db = [\"ikechukwu\", \"adaora\", \"darlington\", \"peter\", \"sola\", \"nneka\", \"chris\", \"enase\"]\n",
    "\n",
    "img_directory = os.path.abspath(\"profile-imgs\")\n",
    "profile_pics = os.listdir(img_directory)\n",
    "\n",
    "# enter username\n",
    "username = input(\"Enter Username: \").lower()\n",
    "\n",
    "# enter password\n",
    "password = int(input(\"Enter Password (length of username): \"))\n",
    "\n",
    "# authenticate\n",
    "if username in users_db and password == len(username):    \n",
    "    idx = users_db.index(username)\n",
    "    img_path = os.path.join(img_directory, profile_pics[idx])\n",
    "    full_name = profile_pics[idx].split(\".jpg\")[0]\n",
    "    print(f\"Welcome {full_name}!\") \n",
    "\n",
    "    if os.path.exists(img_path):\n",
    "        img = cv2.imread(img_path)\n",
    "        cv2.imshow(full_name, img)\n",
    "        cv2.waitKey(0)\n",
    "        cv2.destroyAllWindows()\n",
    "    else:\n",
    "        print(\"No profile picture found.\")\n",
    "else:\n",
    "    print(\"Incorrect Login details\")"
   ]
  }
 ],
 "metadata": {
  "kernelspec": {
   "display_name": "Python 3",
   "language": "python",
   "name": "python3"
  },
  "language_info": {
   "codemirror_mode": {
    "name": "ipython",
    "version": 3
   },
   "file_extension": ".py",
   "mimetype": "text/x-python",
   "name": "python",
   "nbconvert_exporter": "python",
   "pygments_lexer": "ipython3",
   "version": "3.11.2"
  }
 },
 "nbformat": 4,
 "nbformat_minor": 2
}
