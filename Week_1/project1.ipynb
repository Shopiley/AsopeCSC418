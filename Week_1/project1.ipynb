{
 "cells": [
  {
   "cell_type": "markdown",
   "metadata": {},
   "source": [
    "The application is meant to request \n",
    "the username and password of the UMC member and then read the \n",
    "image of the user from the file displaying their corresponding profile \n",
    "details.\n",
    "\n",
    "Hints:\n",
    "• Username = first name \n",
    "• Password = sum of the number of alphabets of the surname\n",
    "• Use Python functions to execute the application"
   ]
  },
  {
   "cell_type": "code",
   "execution_count": 2,
   "metadata": {},
   "outputs": [
    {
     "ename": "AttributeError",
     "evalue": "'dict' object has no attribute 'index'",
     "output_type": "error",
     "traceback": [
      "\u001b[1;31m---------------------------------------------------------------------------\u001b[0m",
      "\u001b[1;31mAttributeError\u001b[0m                            Traceback (most recent call last)",
      "Cell \u001b[1;32mIn[2], line 17\u001b[0m\n\u001b[0;32m     15\u001b[0m \u001b[38;5;66;03m# authenticate\u001b[39;00m\n\u001b[0;32m     16\u001b[0m \u001b[38;5;28;01mif\u001b[39;00m username \u001b[38;5;129;01min\u001b[39;00m users_db \u001b[38;5;129;01mand\u001b[39;00m password \u001b[38;5;241m==\u001b[39m \u001b[38;5;28mlen\u001b[39m(users_db[username]):    \n\u001b[1;32m---> 17\u001b[0m     idx \u001b[38;5;241m=\u001b[39m \u001b[43musers_db\u001b[49m\u001b[38;5;241;43m.\u001b[39;49m\u001b[43mindex\u001b[49m(username)\n\u001b[0;32m     18\u001b[0m     img_path \u001b[38;5;241m=\u001b[39m os\u001b[38;5;241m.\u001b[39mpath\u001b[38;5;241m.\u001b[39mjoin(img_directory, profile_pics[idx])\n\u001b[0;32m     19\u001b[0m     full_name \u001b[38;5;241m=\u001b[39m profile_pics[idx]\u001b[38;5;241m.\u001b[39msplit(\u001b[38;5;124m\"\u001b[39m\u001b[38;5;124m.jpg\u001b[39m\u001b[38;5;124m\"\u001b[39m)[\u001b[38;5;241m0\u001b[39m]\n",
      "\u001b[1;31mAttributeError\u001b[0m: 'dict' object has no attribute 'index'"
     ]
    }
   ],
   "source": [
    "import cv2\n",
    "import os\n",
    "\n",
    "users_db = {\"ikechukwu\": \"obiaya\", \"adaora\": \"onaga\", \"darlington\": \"agholor\", \"peter\":\"bamkole\", \"sola\":\"oni\", \"nneka\":\"okekearu\", \"chris\":\"ogbechie\", \"enase\":\"okonedo\"}\n",
    "\n",
    "img_directory = os.path.abspath(\"profile-imgs\")\n",
    "profile_pics = os.listdir(img_directory)\n",
    "\n",
    "# enter username\n",
    "username = input(\"Enter Username: \").lower()\n",
    "\n",
    "# enter password\n",
    "password = int(input(\"Enter Password (length of surname): \"))\n",
    "\n",
    "# authenticate\n",
    "if username in users_db and password == len(users_db[username]):    \n",
    "    idx = users_db.index(username)\n",
    "    img_path = os.path.join(img_directory, profile_pics[idx])\n",
    "    full_name = profile_pics[idx].split(\".jpg\")[0]\n",
    "    print(f\"Welcome {full_name}!\") \n",
    "\n",
    "    if os.path.exists(img_path):\n",
    "        img = cv2.imread(img_path)\n",
    "        cv2.imshow(full_name, img)\n",
    "        cv2.waitKey(0)\n",
    "        cv2.destroyAllWindows()\n",
    "    else:\n",
    "        print(\"No profile picture found.\")\n",
    "else:\n",
    "    print(\"Incorrect Login details\")"
   ]
  }
 ],
 "metadata": {
  "kernelspec": {
   "display_name": "Python 3",
   "language": "python",
   "name": "python3"
  },
  "language_info": {
   "codemirror_mode": {
    "name": "ipython",
    "version": 3
   },
   "file_extension": ".py",
   "mimetype": "text/x-python",
   "name": "python",
   "nbconvert_exporter": "python",
   "pygments_lexer": "ipython3",
   "version": "3.11.2"
  }
 },
 "nbformat": 4,
 "nbformat_minor": 2
}
