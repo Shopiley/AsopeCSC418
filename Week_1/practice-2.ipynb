{
 "cells": [
  {
   "cell_type": "markdown",
   "metadata": {},
   "source": [
    "#### Reading an Image in Grayscale Mode"
   ]
  },
  {
   "cell_type": "code",
   "execution_count": null,
   "metadata": {},
   "outputs": [],
   "source": [
    "import cv2\n",
    "\n",
    "path = 'img/vr_headset.jpeg'\n",
    "\n",
    "img = cv2.imread(path, 0)\n",
    "\n",
    "window_name = 'VR Headset'\n",
    "\n",
    "cv2.imshow(window_name, img)\n",
    "\n",
    "cv2.waitKey(0)\n",
    "\n",
    "cv2.destroyAllWindows()"
   ]
  }
 ],
 "metadata": {
  "language_info": {
   "name": "python"
  }
 },
 "nbformat": 4,
 "nbformat_minor": 2
}
